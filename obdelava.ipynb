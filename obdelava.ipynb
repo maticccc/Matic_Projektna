{
 "cells": [
  {
   "cell_type": "markdown",
   "metadata": {},
   "source": [
    "# PROJEKTNA NALOGA"
   ]
  },
  {
   "cell_type": "markdown",
   "metadata": {},
   "source": [
    "### UVOD"
   ]
  },
  {
   "cell_type": "markdown",
   "metadata": {},
   "source": [
    "WorldData.info je obsežna baza geografskih, klimatoloških in demografskih podatkov. Ker ponuja širok in zanimiv nabor globalnih primerjav, sem se odločil, da s spletne strani https://www.worlddata.info/cost-of-living.php zajamem in grafično predstavim podatke, ki primerjajo življenske stroške po svetu.\n",
    "Na seznamu je skupno 101 država, žal pa med njimi ni Slovenije. Seveda je globalna primerjava stroškov v praksi velik izziv in ni najbolj natančna, saj je vse kategorije težko oceniti enakovredno po celem svetu (npr. med državami se razlikujejo standardne velikosti stanovanj, oprema stanovanj, itd.)."
   ]
  },
  {
   "cell_type": "code",
   "execution_count": 3,
   "metadata": {},
   "outputs": [],
   "source": [
    "# najprej uvozim vse potrebne pakete\n",
    "import pandas as pd\n",
    "import numpy as np\n",
    "import matplotlib.pyplot as plt"
   ]
  },
  {
   "cell_type": "code",
   "execution_count": 4,
   "metadata": {},
   "outputs": [
    {
     "data": {
      "text/html": [
       "<div>\n",
       "<style scoped>\n",
       "    .dataframe tbody tr th:only-of-type {\n",
       "        vertical-align: middle;\n",
       "    }\n",
       "\n",
       "    .dataframe tbody tr th {\n",
       "        vertical-align: top;\n",
       "    }\n",
       "\n",
       "    .dataframe thead th {\n",
       "        text-align: right;\n",
       "    }\n",
       "</style>\n",
       "<table border=\"1\" class=\"dataframe\">\n",
       "  <thead>\n",
       "    <tr style=\"text-align: right;\">\n",
       "      <th></th>\n",
       "      <th>Drzava</th>\n",
       "      <th>Indeks stroskov</th>\n",
       "      <th>Mesecni dohodek</th>\n",
       "      <th>Indeks kupne moci</th>\n",
       "    </tr>\n",
       "  </thead>\n",
       "  <tbody>\n",
       "    <tr>\n",
       "      <th>0</th>\n",
       "      <td>Bermuda</td>\n",
       "      <td>157.9</td>\n",
       "      <td>10,437 USD</td>\n",
       "      <td>103.8</td>\n",
       "    </tr>\n",
       "    <tr>\n",
       "      <th>1</th>\n",
       "      <td>Cayman Islands</td>\n",
       "      <td>138.3</td>\n",
       "      <td>5,433 USD</td>\n",
       "      <td>61.7</td>\n",
       "    </tr>\n",
       "    <tr>\n",
       "      <th>2</th>\n",
       "      <td>Switzerland</td>\n",
       "      <td>131.4</td>\n",
       "      <td>7,454 USD</td>\n",
       "      <td>89.1</td>\n",
       "    </tr>\n",
       "    <tr>\n",
       "      <th>3</th>\n",
       "      <td>Turks and Caicos Islands</td>\n",
       "      <td>124.6</td>\n",
       "      <td>2,013 USD</td>\n",
       "      <td>25.4</td>\n",
       "    </tr>\n",
       "    <tr>\n",
       "      <th>4</th>\n",
       "      <td>Israel</td>\n",
       "      <td>123.1</td>\n",
       "      <td>4,554 USD</td>\n",
       "      <td>58.1</td>\n",
       "    </tr>\n",
       "    <tr>\n",
       "      <th>...</th>\n",
       "      <td>...</td>\n",
       "      <td>...</td>\n",
       "      <td>...</td>\n",
       "      <td>...</td>\n",
       "    </tr>\n",
       "    <tr>\n",
       "      <th>95</th>\n",
       "      <td>Tajikistan</td>\n",
       "      <td>23.5</td>\n",
       "      <td>101 USD</td>\n",
       "      <td>6.7</td>\n",
       "    </tr>\n",
       "    <tr>\n",
       "      <th>96</th>\n",
       "      <td>Pakistan</td>\n",
       "      <td>23.1</td>\n",
       "      <td>132 USD</td>\n",
       "      <td>8.9</td>\n",
       "    </tr>\n",
       "    <tr>\n",
       "      <th>97</th>\n",
       "      <td>Myanmar</td>\n",
       "      <td>22.7</td>\n",
       "      <td>101 USD</td>\n",
       "      <td>7.0</td>\n",
       "    </tr>\n",
       "    <tr>\n",
       "      <th>98</th>\n",
       "      <td>Uzbekistan</td>\n",
       "      <td>21.7</td>\n",
       "      <td>183 USD</td>\n",
       "      <td>13.2</td>\n",
       "    </tr>\n",
       "    <tr>\n",
       "      <th>99</th>\n",
       "      <td>Palestine</td>\n",
       "      <td>17.7</td>\n",
       "      <td>384 USD</td>\n",
       "      <td>34.2</td>\n",
       "    </tr>\n",
       "  </tbody>\n",
       "</table>\n",
       "<p>100 rows × 4 columns</p>\n",
       "</div>"
      ],
      "text/plain": [
       "                      Drzava  Indeks stroskov Mesecni dohodek  \\\n",
       "0                    Bermuda            157.9      10,437 USD   \n",
       "1             Cayman Islands            138.3       5,433 USD   \n",
       "2                Switzerland            131.4       7,454 USD   \n",
       "3   Turks and Caicos Islands            124.6       2,013 USD   \n",
       "4                     Israel            123.1       4,554 USD   \n",
       "..                       ...              ...             ...   \n",
       "95                Tajikistan             23.5         101 USD   \n",
       "96                  Pakistan             23.1         132 USD   \n",
       "97                   Myanmar             22.7         101 USD   \n",
       "98                Uzbekistan             21.7         183 USD   \n",
       "99                 Palestine             17.7         384 USD   \n",
       "\n",
       "    Indeks kupne moci  \n",
       "0               103.8  \n",
       "1                61.7  \n",
       "2                89.1  \n",
       "3                25.4  \n",
       "4                58.1  \n",
       "..                ...  \n",
       "95                6.7  \n",
       "96                8.9  \n",
       "97                7.0  \n",
       "98               13.2  \n",
       "99               34.2  \n",
       "\n",
       "[100 rows x 4 columns]"
      ]
     },
     "execution_count": 4,
     "metadata": {},
     "output_type": "execute_result"
    }
   ],
   "source": [
    "# vsebina csv datoteke\n",
    "podatki_csv = pd.read_csv('drzave.csv')\n",
    "podatki_csv"
   ]
  },
  {
   "cell_type": "code",
   "execution_count": 5,
   "metadata": {},
   "outputs": [
    {
     "data": {
      "text/html": [
       "<div>\n",
       "<style scoped>\n",
       "    .dataframe tbody tr th:only-of-type {\n",
       "        vertical-align: middle;\n",
       "    }\n",
       "\n",
       "    .dataframe tbody tr th {\n",
       "        vertical-align: top;\n",
       "    }\n",
       "\n",
       "    .dataframe thead th {\n",
       "        text-align: right;\n",
       "    }\n",
       "</style>\n",
       "<table border=\"1\" class=\"dataframe\">\n",
       "  <thead>\n",
       "    <tr style=\"text-align: right;\">\n",
       "      <th></th>\n",
       "      <th>Drzava</th>\n",
       "      <th>Indeks stroskov</th>\n",
       "      <th>Mesecni dohodek</th>\n",
       "      <th>Indeks kupne moci</th>\n",
       "    </tr>\n",
       "  </thead>\n",
       "  <tbody>\n",
       "    <tr>\n",
       "      <th>0</th>\n",
       "      <td>Bermuda</td>\n",
       "      <td>157.9</td>\n",
       "      <td>10437</td>\n",
       "      <td>103.8</td>\n",
       "    </tr>\n",
       "    <tr>\n",
       "      <th>1</th>\n",
       "      <td>Cayman Islands</td>\n",
       "      <td>138.3</td>\n",
       "      <td>5433</td>\n",
       "      <td>61.7</td>\n",
       "    </tr>\n",
       "    <tr>\n",
       "      <th>2</th>\n",
       "      <td>Switzerland</td>\n",
       "      <td>131.4</td>\n",
       "      <td>7454</td>\n",
       "      <td>89.1</td>\n",
       "    </tr>\n",
       "    <tr>\n",
       "      <th>3</th>\n",
       "      <td>Turks and Caicos Islands</td>\n",
       "      <td>124.6</td>\n",
       "      <td>2013</td>\n",
       "      <td>25.4</td>\n",
       "    </tr>\n",
       "    <tr>\n",
       "      <th>4</th>\n",
       "      <td>Israel</td>\n",
       "      <td>123.1</td>\n",
       "      <td>4554</td>\n",
       "      <td>58.1</td>\n",
       "    </tr>\n",
       "    <tr>\n",
       "      <th>...</th>\n",
       "      <td>...</td>\n",
       "      <td>...</td>\n",
       "      <td>...</td>\n",
       "      <td>...</td>\n",
       "    </tr>\n",
       "    <tr>\n",
       "      <th>95</th>\n",
       "      <td>Tajikistan</td>\n",
       "      <td>23.5</td>\n",
       "      <td>101</td>\n",
       "      <td>6.7</td>\n",
       "    </tr>\n",
       "    <tr>\n",
       "      <th>96</th>\n",
       "      <td>Pakistan</td>\n",
       "      <td>23.1</td>\n",
       "      <td>132</td>\n",
       "      <td>8.9</td>\n",
       "    </tr>\n",
       "    <tr>\n",
       "      <th>97</th>\n",
       "      <td>Myanmar</td>\n",
       "      <td>22.7</td>\n",
       "      <td>101</td>\n",
       "      <td>7.0</td>\n",
       "    </tr>\n",
       "    <tr>\n",
       "      <th>98</th>\n",
       "      <td>Uzbekistan</td>\n",
       "      <td>21.7</td>\n",
       "      <td>183</td>\n",
       "      <td>13.2</td>\n",
       "    </tr>\n",
       "    <tr>\n",
       "      <th>99</th>\n",
       "      <td>Palestine</td>\n",
       "      <td>17.7</td>\n",
       "      <td>384</td>\n",
       "      <td>34.2</td>\n",
       "    </tr>\n",
       "  </tbody>\n",
       "</table>\n",
       "<p>100 rows × 4 columns</p>\n",
       "</div>"
      ],
      "text/plain": [
       "                      Drzava  Indeks stroskov  Mesecni dohodek  \\\n",
       "0                    Bermuda            157.9            10437   \n",
       "1             Cayman Islands            138.3             5433   \n",
       "2                Switzerland            131.4             7454   \n",
       "3   Turks and Caicos Islands            124.6             2013   \n",
       "4                     Israel            123.1             4554   \n",
       "..                       ...              ...              ...   \n",
       "95                Tajikistan             23.5              101   \n",
       "96                  Pakistan             23.1              132   \n",
       "97                   Myanmar             22.7              101   \n",
       "98                Uzbekistan             21.7              183   \n",
       "99                 Palestine             17.7              384   \n",
       "\n",
       "    Indeks kupne moci  \n",
       "0               103.8  \n",
       "1                61.7  \n",
       "2                89.1  \n",
       "3                25.4  \n",
       "4                58.1  \n",
       "..                ...  \n",
       "95                6.7  \n",
       "96                8.9  \n",
       "97                7.0  \n",
       "98               13.2  \n",
       "99               34.2  \n",
       "\n",
       "[100 rows x 4 columns]"
      ]
     },
     "execution_count": 5,
     "metadata": {},
     "output_type": "execute_result"
    }
   ],
   "source": [
    "# za vnaprej tretji stolpec, ki ima poleg vrednosti navedeno tudi valuto,\n",
    "# očistim 'USD'-ja\n",
    "# poleg tega je potrebno nastaviti tudi tip podatka na integer\n",
    "\n",
    "podatki_csv['Mesecni dohodek'] = podatki_csv['Mesecni dohodek'].str.replace(',', '', regex=True).str.replace('USD', '', regex=True).astype(int)\n",
    "podatki_csv"
   ]
  },
  {
   "cell_type": "markdown",
   "metadata": {},
   "source": [
    "Kot je videti, se v tabeli zgoraj v glavah stolpcev nahajajo ime države, indeks stroškov, mesečni dohodek in indeks kupne moči. Povprečni življenski stroški v ZDA so prilagojeni indeksu 100. Na ta indeks pa so vezane tudi vse preostale države. Tako so na primer v državah, ki imajo indeks 90, stroški za 10% nižji kot v ZDA. Mesečni dohodek ne predstavlja neto plače, ampak je izračunan iz bruto nacionalnega prihodka na prebivalca. Indeks kupne moči se ravno tako kot indeks stroškov drži indeksa 100, ki ga imajo ZDA, indekse ostalih držav pa lahko primerjamo z ZDA podobno kot prej; če je na primer indeks kupne moči Bermude enak 103.8, je kupna moč prebivalstva za 3.8% večja kot v ZDA."
   ]
  },
  {
   "cell_type": "markdown",
   "metadata": {},
   "source": [
    "### ANALIZA PODATKOV"
   ]
  },
  {
   "cell_type": "markdown",
   "metadata": {},
   "source": [
    "Da bom lažje primerjal podatke posamezne države in za lažjo predstavo vseh podatkov, bom najprej izračunal povprečje vsake od kategorij."
   ]
  },
  {
   "cell_type": "code",
   "execution_count": 6,
   "metadata": {},
   "outputs": [
    {
     "name": "stdout",
     "output_type": "stream",
     "text": [
      "Povprečen indeks stroškov: 59.7\n",
      "Povprečen mesečni dohodek: 2048\n",
      "Povprečen indeks kupne moči: 42.4\n"
     ]
    }
   ],
   "source": [
    "def vrni_povprecja(csv_datoteka):\n",
    "    # povprečje vsake od kategorij\n",
    "    povprecje_stroski = csv_datoteka['Indeks stroskov'].mean()\n",
    "    povprecje_dohodek = csv_datoteka['Mesecni dohodek'].mean()\n",
    "    povprecje_kupna_moc = csv_datoteka['Indeks kupne moci'].mean()\n",
    "\n",
    "    # izpiši povprečja\n",
    "    print(f'Povprečen indeks stroškov: {povprecje_stroski.round(1)}')\n",
    "    print(f'Povprečen mesečni dohodek: {int(povprecje_dohodek)}')\n",
    "    print(f'Povprečen indeks kupne moči: {povprecje_kupna_moc.round(1)}')\n",
    "\n",
    "# s klicem funkcije dobim vsa povprečja\n",
    "vrni_povprecja(podatki_csv)"
   ]
  },
  {
   "cell_type": "code",
   "execution_count": 10,
   "metadata": {},
   "outputs": [
    {
     "data": {
      "image/png": "[encoded data removed]",
      "text/plain": [
       "<Figure size 1200x600 with 1 Axes>"
      ]
     },
     "metadata": {},
     "output_type": "display_data"
    }
   ],
   "source": [
    "# poglejmo 10 držav, ki imajo na prebivalca največji mesečni dohodek\n",
    "# spodnja funkcija izlušči 10 držav razvrščenih po mesečnih dohodkih od \n",
    "# najvišjega navzdol in izriše graf\n",
    "\n",
    "def izlusci_narisi_graf(csv_datoteka):\n",
    "    top_10_drzav = csv_datoteka.sort_values(by='Mesecni dohodek', ascending=False).head(10)\n",
    "    plt.figure(figsize=(12, 6))\n",
    "    plt.bar(top_10_drzav['Drzava'], top_10_drzav['Mesecni dohodek'])\n",
    "    plt.ylabel('Mesečni dohodek (v USD)')\n",
    "    plt.title('10 držav z najvišjim mesečnim dohodkom')\n",
    "    plt.show()\n",
    "\n",
    "izlusci_narisi_graf(podatki_csv)\n"
   ]
  },
  {
   "cell_type": "markdown",
   "metadata": {},
   "source": [
    "Najvišji dohodek ima Bermuda, ki pa ni samostojna država, ampak otoško ozemlje Združenega kraljestva s samoupravo. Poleg tega ima s 157.9 tudi najvišjega izmed indeksov stroškov, njen indeks kupne moči pa je s 103.8 tudi visoko nad povprečjem (42.4). Bermuda velja za eno izmed najbolj priljubljenih davčnih oaz na svetu, od koder dobi večino svojega bogastva."
   ]
  }
 ],
 "metadata": {
  "kernelspec": {
   "display_name": ".venv",
   "language": "python",
   "name": "python3"
  },
  "language_info": {
   "codemirror_mode": {
    "name": "ipython",
    "version": 3
   },
   "file_extension": ".py",
   "mimetype": "text/x-python",
   "name": "python",
   "nbconvert_exporter": "python",
   "pygments_lexer": "ipython3",
   "version": "3.11.2"
  }
 },
 "nbformat": 4,
 "nbformat_minor": 2
}
